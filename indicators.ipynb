{
 "cells": [
  {
   "attachments": {},
   "cell_type": "markdown",
   "metadata": {},
   "source": [
    "|Trading Indictators|\n",
    "|-|"
   ]
  },
  {
   "cell_type": "code",
   "execution_count": 3,
   "metadata": {},
   "outputs": [],
   "source": [
    "#libs\n",
    "import numpy as np\n",
    "import pandas as pd\n",
    "import matplotlib.pyplot as plt\n",
    "plt.style.use('fivethirtyeight')\n",
    "\n",
    "#libs -> data collection\n",
    "import requests\n",
    "from datetime import datetime\n",
    "\n",
    "#keys\n",
    "from config import IEX_KEY\n"
   ]
  },
  {
   "cell_type": "code",
   "execution_count": 6,
   "metadata": {},
   "outputs": [
    {
     "name": "stdout",
     "output_type": "stream",
     "text": [
      "Symbol: NOW\n",
      "Company Name: ServiceNow Inc\n",
      "Latest Price: $475.59\n",
      "Previous Close: $475.99\n",
      "Change: $-0.4 (-0.00084%)\n"
     ]
    }
   ],
   "source": [
    "# Replace 'your_api_key' with your actual IEX Cloud API key\n",
    "api_key = IEX_KEY\n",
    "symbol = 'NOW' # servicenow\n",
    "\n",
    "# Define the base URL and endpoint for the IEX Cloud API\n",
    "base_url = 'https://cloud.iexapis.com/stable'\n",
    "endpoint = f'/stock/{symbol}/quote'\n",
    "\n",
    "# Set up the request URL with your API key\n",
    "url = f'{base_url}{endpoint}?token={api_key}'\n",
    "\n",
    "# Send an HTTP GET request to the IEX Cloud API and retrieve the response\n",
    "response = requests.get(url)\n",
    "data = response.json()\n",
    "\n",
    "# Print the stock data for TSLA\n",
    "print(f\"Symbol: {data['symbol']}\")\n",
    "print(f\"Company Name: {data['companyName']}\")\n",
    "print(f\"Latest Price: ${data['latestPrice']}\")\n",
    "print(f\"Previous Close: ${data['previousClose']}\")\n",
    "print(f\"Change: ${data['change']} ({data['changePercent']}%)\")"
   ]
  },
  {
   "cell_type": "code",
   "execution_count": null,
   "metadata": {},
   "outputs": [],
   "source": []
  }
 ],
 "metadata": {
  "kernelspec": {
   "display_name": "trading_venv",
   "language": "python",
   "name": "python3"
  },
  "language_info": {
   "codemirror_mode": {
    "name": "ipython",
    "version": 3
   },
   "file_extension": ".py",
   "mimetype": "text/x-python",
   "name": "python",
   "nbconvert_exporter": "python",
   "pygments_lexer": "ipython3",
   "version": "3.11.1"
  },
  "orig_nbformat": 4
 },
 "nbformat": 4,
 "nbformat_minor": 2
}
